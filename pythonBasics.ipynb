{
  "cells": [
    {
      "cell_type": "code",
      "execution_count": null,
      "metadata": {
        "colab": {
          "base_uri": "https://localhost:8080/"
        },
        "id": "OWXT2yWahENG",
        "outputId": "b68e00a7-f39b-48ac-884a-3362892a2f13"
      },
      "outputs": [
        {
          "name": "stdout",
          "output_type": "stream",
          "text": [
            "this is my revision of python programming langugae\n"
          ]
        }
      ],
      "source": [
        "print(\"this is my revision of python programming langugae\")"
      ]
    },
    {
      "cell_type": "code",
      "execution_count": null,
      "metadata": {
        "colab": {
          "base_uri": "https://localhost:8080/"
        },
        "id": "BHDbcdfyhXbt",
        "outputId": "ad7430fc-72b9-4486-b5fe-9062162518b5"
      },
      "outputs": [
        {
          "name": "stdout",
          "output_type": "stream",
          "text": [
            "testing something\n"
          ]
        }
      ],
      "source": [
        "print(\"testing something\")"
      ]
    },
    {
      "cell_type": "code",
      "execution_count": null,
      "metadata": {
        "id": "6iqn2GKrhjej"
      },
      "outputs": [],
      "source": [
        " name = \"sheldon\"\n",
        " userid = \"sheldon99\"\n",
        " password = \"sheldon00\"\n",
        " mail = \"sheldon@cooper.com\""
      ]
    },
    {
      "cell_type": "code",
      "execution_count": null,
      "metadata": {
        "id": "0he-i-VQhh2j"
      },
      "outputs": [],
      "source": [
        "a = 1.243545"
      ]
    },
    {
      "cell_type": "code",
      "execution_count": null,
      "metadata": {
        "colab": {
          "base_uri": "https://localhost:8080/"
        },
        "id": "PW8QA61GJr52",
        "outputId": "9c607a02-0c72-4c50-d117-7d2e7f20abe9"
      },
      "outputs": [
        {
          "data": {
            "text/plain": [
              "float"
            ]
          },
          "execution_count": 5,
          "metadata": {},
          "output_type": "execute_result"
        }
      ],
      "source": [
        "type(a)"
      ]
    },
    {
      "cell_type": "code",
      "execution_count": null,
      "metadata": {
        "colab": {
          "base_uri": "https://localhost:8080/"
        },
        "id": "iifQnQVsJs5p",
        "outputId": "2ac6e9b2-edd3-4a03-cc5a-b2ebd0cea8a8"
      },
      "outputs": [
        {
          "data": {
            "text/plain": [
              "bool"
            ]
          },
          "execution_count": 6,
          "metadata": {},
          "output_type": "execute_result"
        }
      ],
      "source": [
        "b = True\n",
        "type(b)\n"
      ]
    },
    {
      "cell_type": "code",
      "execution_count": null,
      "metadata": {
        "colab": {
          "base_uri": "https://localhost:8080/"
        },
        "id": "vNYlBqgAJv3d",
        "outputId": "d54ac27c-7552-4a66-ed1c-133bece6d0e5"
      },
      "outputs": [
        {
          "name": "stdout",
          "output_type": "stream",
          "text": [
            "4\n",
            "0\n"
          ]
        }
      ],
      "source": [
        "print(True + True + True + False + True)\n",
        "print(False - True + True)"
      ]
    },
    {
      "cell_type": "code",
      "execution_count": null,
      "metadata": {
        "colab": {
          "base_uri": "https://localhost:8080/"
        },
        "id": "DQNZ1yp4KFgo",
        "outputId": "ca418f44-cf48-4182-ceeb-85484bb4d692"
      },
      "outputs": [
        {
          "data": {
            "text/plain": [
              "0.0"
            ]
          },
          "execution_count": 8,
          "metadata": {},
          "output_type": "execute_result"
        }
      ],
      "source": [
        "False / True"
      ]
    },
    {
      "cell_type": "code",
      "execution_count": null,
      "metadata": {
        "colab": {
          "base_uri": "https://localhost:8080/"
        },
        "id": "clK5oWEsKktg",
        "outputId": "c970a80f-e038-4b30-da7b-aa559c1baefb"
      },
      "outputs": [
        {
          "data": {
            "text/plain": [
              "complex"
            ]
          },
          "execution_count": 9,
          "metadata": {},
          "output_type": "execute_result"
        }
      ],
      "source": [
        "n = 34 + 34j\n",
        "type(n)"
      ]
    },
    {
      "cell_type": "code",
      "execution_count": null,
      "metadata": {
        "colab": {
          "base_uri": "https://localhost:8080/"
        },
        "id": "bPanHPPTKmdv",
        "outputId": "0dba27ff-eb5d-4106-a5c1-cc49d3c775eb"
      },
      "outputs": [
        {
          "data": {
            "text/plain": [
              "34.0"
            ]
          },
          "execution_count": 10,
          "metadata": {},
          "output_type": "execute_result"
        }
      ],
      "source": [
        "n.real"
      ]
    },
    {
      "cell_type": "code",
      "execution_count": null,
      "metadata": {
        "colab": {
          "base_uri": "https://localhost:8080/"
        },
        "id": "tW8V-HGuLaNZ",
        "outputId": "258ba4b0-edb5-4615-bc59-0a3134808a10"
      },
      "outputs": [
        {
          "data": {
            "text/plain": [
              "34.0"
            ]
          },
          "execution_count": 11,
          "metadata": {},
          "output_type": "execute_result"
        }
      ],
      "source": [
        "n.imag"
      ]
    },
    {
      "cell_type": "code",
      "execution_count": null,
      "metadata": {
        "id": "Ol0rVSVnLnGr"
      },
      "outputs": [],
      "source": [
        "m = 56 + 544j"
      ]
    },
    {
      "cell_type": "code",
      "execution_count": null,
      "metadata": {
        "colab": {
          "base_uri": "https://localhost:8080/"
        },
        "id": "gBH96VT9LurK",
        "outputId": "b7d6785d-d18d-4b58-d7a3-4962fd1b4a77"
      },
      "outputs": [
        {
          "data": {
            "text/plain": [
              "(-16592+20400j)"
            ]
          },
          "execution_count": 13,
          "metadata": {},
          "output_type": "execute_result"
        }
      ],
      "source": [
        "n * m "
      ]
    },
    {
      "cell_type": "code",
      "execution_count": null,
      "metadata": {
        "colab": {
          "base_uri": "https://localhost:8080/"
        },
        "id": "hMUZCQjeLvaB",
        "outputId": "9a326158-5f0b-4739-f6e6-fc6b5052f53b"
      },
      "outputs": [
        {
          "name": "stdout",
          "output_type": "stream",
          "text": [
            "1sparsh\n"
          ]
        }
      ],
      "source": [
        "print(str(1) + \"sparsh\") "
      ]
    },
    {
      "cell_type": "code",
      "execution_count": null,
      "metadata": {
        "id": "I22Jjb36L-p8"
      },
      "outputs": [],
      "source": [
        "# \"sparsh\" * (32(/4*2))"
      ]
    },
    {
      "cell_type": "code",
      "execution_count": null,
      "metadata": {
        "colab": {
          "base_uri": "https://localhost:8080/"
        },
        "id": "BthBYEP4MDqo",
        "outputId": "b2892c55-de2e-4e7b-8d9a-a28cc20caea8"
      },
      "outputs": [
        {
          "data": {
            "text/plain": [
              "34"
            ]
          },
          "execution_count": 16,
          "metadata": {},
          "output_type": "execute_result"
        }
      ],
      "source": [
        "int(\"34\")"
      ]
    },
    {
      "cell_type": "code",
      "execution_count": null,
      "metadata": {
        "id": "4kIwnKrHNJHm"
      },
      "outputs": [],
      "source": [
        "a = 10 "
      ]
    },
    {
      "cell_type": "code",
      "execution_count": null,
      "metadata": {
        "colab": {
          "base_uri": "https://localhost:8080/"
        },
        "id": "ocUjB2VaNZh4",
        "outputId": "966ea7ed-05b8-4c84-9d17-c90e888f8ba0"
      },
      "outputs": [
        {
          "name": "stdout",
          "output_type": "stream",
          "text": [
            "Enter value67\n"
          ]
        }
      ],
      "source": [
        "a = int(input(\"Enter value\"))"
      ]
    },
    {
      "cell_type": "code",
      "execution_count": null,
      "metadata": {
        "colab": {
          "base_uri": "https://localhost:8080/"
        },
        "id": "qwO2c4vWNbJR",
        "outputId": "e139c6a2-106a-4c59-9f7a-0d5804c12734"
      },
      "outputs": [
        {
          "data": {
            "text/plain": [
              "int"
            ]
          },
          "execution_count": 19,
          "metadata": {},
          "output_type": "execute_result"
        }
      ],
      "source": [
        "type(a)"
      ]
    },
    {
      "cell_type": "code",
      "execution_count": null,
      "metadata": {
        "colab": {
          "base_uri": "https://localhost:8080/"
        },
        "id": "t2Br-_YCNfCO",
        "outputId": "2dd5f5e6-b21a-4ed9-b590-d791486cb5d6"
      },
      "outputs": [
        {
          "name": "stdout",
          "output_type": "stream",
          "text": [
            "Enter integer a9\n",
            "Enter integer b7\n",
            "Enter integer c89\n"
          ]
        }
      ],
      "source": [
        "a = int(input(\"Enter integer a\"))\n",
        "b = int(input(\"Enter integer b\"))\n",
        "c = int(input(\"Enter integer c\"))"
      ]
    },
    {
      "cell_type": "code",
      "execution_count": null,
      "metadata": {
        "id": "JrjOHzqxN-tM"
      },
      "outputs": [],
      "source": [
        "d = (a + b) / c"
      ]
    },
    {
      "cell_type": "code",
      "execution_count": null,
      "metadata": {
        "colab": {
          "base_uri": "https://localhost:8080/"
        },
        "id": "SFAK3oG4OUSe",
        "outputId": "4771e40b-5fe1-492b-d81f-37f964e59270"
      },
      "outputs": [
        {
          "data": {
            "text/plain": [
              "0.1797752808988764"
            ]
          },
          "execution_count": 22,
          "metadata": {},
          "output_type": "execute_result"
        }
      ],
      "source": [
        "d"
      ]
    },
    {
      "cell_type": "code",
      "execution_count": null,
      "metadata": {
        "colab": {
          "base_uri": "https://localhost:8080/"
        },
        "id": "UwiDikvQOJ1f",
        "outputId": "5a96df54-e3d1-4608-cda0-97c366a728f2"
      },
      "outputs": [
        {
          "data": {
            "text/plain": [
              "(34.17977528089887+23j)"
            ]
          },
          "execution_count": 23,
          "metadata": {},
          "output_type": "execute_result"
        }
      ],
      "source": [
        "c1 = d + (34 + 23j)\n",
        "c1"
      ]
    },
    {
      "cell_type": "code",
      "execution_count": null,
      "metadata": {
        "id": "bzr9uJDPOPHN"
      },
      "outputs": [],
      "source": [
        "c2 = str(c1) + \"sheldon\""
      ]
    },
    {
      "cell_type": "code",
      "execution_count": null,
      "metadata": {
        "colab": {
          "base_uri": "https://localhost:8080/",
          "height": 36
        },
        "id": "U7GMsJYJOR3Q",
        "outputId": "7a656590-2799-4766-d123-94b7928ae46e"
      },
      "outputs": [
        {
          "data": {
            "application/vnd.google.colaboratory.intrinsic+json": {
              "type": "string"
            },
            "text/plain": [
              "'(34.17977528089887+23j)sparsh'"
            ]
          },
          "execution_count": 25,
          "metadata": {},
          "output_type": "execute_result"
        }
      ],
      "source": [
        "c2"
      ]
    },
    {
      "cell_type": "code",
      "execution_count": null,
      "metadata": {
        "colab": {
          "base_uri": "https://localhost:8080/"
        },
        "id": "l4tqoshAObHL",
        "outputId": "dec73f42-8ea8-41ab-e91c-3e5bd53d5d50"
      },
      "outputs": [
        {
          "name": "stdout",
          "output_type": "stream",
          "text": [
            "enter a value78\n",
            "value is greater than 44\n"
          ]
        }
      ],
      "source": [
        "a = int(input(\"enter a value\"))\n",
        "if a < 44:\n",
        "  print(\"value is smaller than 44\")\n",
        "else : \n",
        "  print(\"value is greater than 44\")"
      ]
    },
    {
      "cell_type": "code",
      "execution_count": null,
      "metadata": {
        "id": "GpERn7GRRyuj"
      },
      "outputs": [],
      "source": [
        "  salary = float(input(\"Enter your salary\"))\n",
        "  if salary > 24.0 : \n",
        "    print(\"i can buy a car\")\n",
        "  else :\n",
        "    print(\"work harder...\")"
      ]
    },
    {
      "cell_type": "code",
      "execution_count": null,
      "metadata": {
        "id": "SOKnON1UTJrM"
      },
      "outputs": [],
      "source": [
        "a = [1 , 2, 3, 4]"
      ]
    },
    {
      "cell_type": "code",
      "execution_count": null,
      "metadata": {
        "id": "T4kf6C7qe8-o"
      },
      "outputs": [],
      "source": [
        "a[0]"
      ]
    },
    {
      "cell_type": "code",
      "execution_count": null,
      "metadata": {
        "id": "NhTAUB2We-Mt"
      },
      "outputs": [],
      "source": [
        "a[-1]"
      ]
    },
    {
      "cell_type": "code",
      "execution_count": null,
      "metadata": {
        "id": "QLtECZ1Oe_Fr"
      },
      "outputs": [],
      "source": [
        "a[-3]"
      ]
    },
    {
      "cell_type": "code",
      "execution_count": null,
      "metadata": {
        "id": "ApvNxDSYfARl"
      },
      "outputs": [],
      "source": [
        "string_type = \"python\""
      ]
    },
    {
      "cell_type": "code",
      "execution_count": null,
      "metadata": {
        "id": "pJ7_ksAbfIYS"
      },
      "outputs": [],
      "source": [
        "string_type[0] , string_type[-3] , string_type[-5]"
      ]
    },
    {
      "cell_type": "code",
      "execution_count": null,
      "metadata": {
        "id": "mwrBebWCfOTW"
      },
      "outputs": [],
      "source": [
        "s = ( 2 , 34 , \"dsf\" , {\"sf\"})"
      ]
    },
    {
      "cell_type": "code",
      "execution_count": null,
      "metadata": {
        "id": "PeldlTE1fVPX"
      },
      "outputs": [],
      "source": [
        "type(s)"
      ]
    },
    {
      "cell_type": "code",
      "execution_count": null,
      "metadata": {
        "id": "fB6yHcm2fcG2"
      },
      "outputs": [],
      "source": [
        "len(s)"
      ]
    },
    {
      "cell_type": "code",
      "execution_count": null,
      "metadata": {
        "id": "Um2vK78LffxH"
      },
      "outputs": [],
      "source": [
        "r = string_type "
      ]
    },
    {
      "cell_type": "code",
      "execution_count": null,
      "metadata": {
        "id": "cA9Vw3gfgxFF"
      },
      "outputs": [],
      "source": [
        "r[4 : 6]"
      ]
    },
    {
      "cell_type": "code",
      "execution_count": null,
      "metadata": {
        "id": "fJLnhqXegymF"
      },
      "outputs": [],
      "source": [
        "r[0 : 5 : 2]"
      ]
    },
    {
      "cell_type": "code",
      "execution_count": null,
      "metadata": {
        "id": "kmMl-e__g27d"
      },
      "outputs": [],
      "source": [
        "r"
      ]
    },
    {
      "cell_type": "code",
      "execution_count": null,
      "metadata": {
        "id": "T2rYcXcig4Fg"
      },
      "outputs": [],
      "source": [
        "r = \"abcde\""
      ]
    },
    {
      "cell_type": "code",
      "execution_count": null,
      "metadata": {
        "id": "k_-R5vsFh1qq"
      },
      "outputs": [],
      "source": [
        "r[0:4:2]"
      ]
    },
    {
      "cell_type": "code",
      "execution_count": null,
      "metadata": {
        "id": "x05G_Sirh6Vt"
      },
      "outputs": [],
      "source": [
        "r[2:10]"
      ]
    },
    {
      "cell_type": "code",
      "execution_count": null,
      "metadata": {
        "id": "840CgIgPiAyT"
      },
      "outputs": [],
      "source": [
        "w = \"welcome\"\n",
        "w[-4 : -1]"
      ]
    },
    {
      "cell_type": "code",
      "execution_count": null,
      "metadata": {
        "id": "wK57OjfwpySe"
      },
      "outputs": [],
      "source": [
        "w[-1]"
      ]
    },
    {
      "cell_type": "code",
      "execution_count": null,
      "metadata": {
        "id": "5VI4q3n4qihc"
      },
      "outputs": [],
      "source": [
        "w[1 - len(w)]"
      ]
    },
    {
      "cell_type": "code",
      "execution_count": null,
      "metadata": {
        "id": "Zz6-_2qnqqi8"
      },
      "outputs": [],
      "source": [
        "1 - len(w)"
      ]
    },
    {
      "cell_type": "code",
      "execution_count": null,
      "metadata": {
        "id": "CLsudpsqqtnV"
      },
      "outputs": [],
      "source": [
        "len(w)"
      ]
    },
    {
      "cell_type": "code",
      "execution_count": null,
      "metadata": {
        "id": "dSEJZ-dbqwmm"
      },
      "outputs": [],
      "source": [
        "w[-7]"
      ]
    },
    {
      "cell_type": "code",
      "execution_count": null,
      "metadata": {
        "id": "KgzgE0vcq3JH"
      },
      "outputs": [],
      "source": []
    },
    {
      "cell_type": "code",
      "execution_count": null,
      "metadata": {
        "id": "aBGJpfVIq7yh"
      },
      "outputs": [],
      "source": [
        "w = \"sunny\"\n",
        "w[-1:-4:-1]"
      ]
    },
    {
      "cell_type": "code",
      "execution_count": null,
      "metadata": {
        "id": "yrKTMFnJtDmT"
      },
      "outputs": [],
      "source": [
        "w[-4:-1]"
      ]
    },
    {
      "cell_type": "code",
      "execution_count": null,
      "metadata": {
        "id": "_gMuoH4mtvsW"
      },
      "outputs": [],
      "source": [
        "a = \"We are here for learning data science\""
      ]
    },
    {
      "cell_type": "code",
      "execution_count": null,
      "metadata": {
        "id": "aM8hr8jKtFkO"
      },
      "outputs": [],
      "source": [
        "a[len(a) - 1 : len(a) - 21]"
      ]
    },
    {
      "cell_type": "code",
      "execution_count": null,
      "metadata": {
        "id": "Jb5HlLmGuHii"
      },
      "outputs": [],
      "source": [
        "len(a) - 1"
      ]
    },
    {
      "cell_type": "code",
      "execution_count": null,
      "metadata": {
        "id": "FQCA5Fn1uJ0E"
      },
      "outputs": [],
      "source": [
        "len(a) - 21"
      ]
    },
    {
      "cell_type": "code",
      "execution_count": null,
      "metadata": {
        "id": "RTq2nDCcuL0F"
      },
      "outputs": [],
      "source": [
        "a[7] , a [27]"
      ]
    },
    {
      "cell_type": "code",
      "execution_count": null,
      "metadata": {
        "id": "vPnyzYZ-uPGt"
      },
      "outputs": [],
      "source": [
        "a[28:7:-1] == a[len(a) : len(a)-21 : -1]"
      ]
    },
    {
      "cell_type": "code",
      "execution_count": null,
      "metadata": {
        "id": "CLffGfwMuW41"
      },
      "outputs": [],
      "source": [
        "a[-1: -22 : -1]"
      ]
    },
    {
      "cell_type": "code",
      "execution_count": null,
      "metadata": {
        "id": "3PUfJoWCu2IC"
      },
      "outputs": [],
      "source": [
        "a[37:15:-1]"
      ]
    },
    {
      "cell_type": "code",
      "execution_count": null,
      "metadata": {
        "id": "3qwJ0pF_u-hF"
      },
      "outputs": [],
      "source": [
        "a = { 1, 2 ,3, 4}"
      ]
    },
    {
      "cell_type": "code",
      "execution_count": null,
      "metadata": {
        "id": "3CimphM8FI6a"
      },
      "outputs": [],
      "source": [
        "type(a)"
      ]
    },
    {
      "cell_type": "code",
      "execution_count": null,
      "metadata": {
        "id": "jesCl9EgFKJC"
      },
      "outputs": [],
      "source": [
        "a = [ 1, 2, 4]\n",
        "type(a)\n",
        "a = (1 ,35, 5)\n",
        "type(a)"
      ]
    },
    {
      "cell_type": "code",
      "execution_count": null,
      "metadata": {
        "id": "Cklja8e_Fa2Q"
      },
      "outputs": [],
      "source": [
        "x = 10 \n",
        "x = x**5"
      ]
    },
    {
      "cell_type": "code",
      "execution_count": null,
      "metadata": {
        "id": "N94dxaL7F2sM"
      },
      "outputs": [],
      "source": [
        "x"
      ]
    },
    {
      "cell_type": "code",
      "execution_count": null,
      "metadata": {
        "id": "BRl6GQzZF5_w"
      },
      "outputs": [],
      "source": [
        "a = [1 ,2, 4 ,5 ]\n",
        "4 in a "
      ]
    },
    {
      "cell_type": "code",
      "execution_count": null,
      "metadata": {
        "id": "0e0-qUwnHYsi"
      },
      "outputs": [],
      "source": [
        "b = [1, 2,3,4 ]\n",
        "a is b "
      ]
    },
    {
      "cell_type": "code",
      "execution_count": null,
      "metadata": {
        "id": "adZ8qMhAHdUF"
      },
      "outputs": [],
      "source": [
        "1 is 1"
      ]
    },
    {
      "cell_type": "code",
      "execution_count": null,
      "metadata": {
        "id": "QZpxJQ1VHeG8"
      },
      "outputs": [],
      "source": [
        "a = [1 ,2, 3]\n",
        "b = [1, 2, 3]\n",
        "print(id(a))\n",
        "print(id(b))"
      ]
    },
    {
      "cell_type": "code",
      "execution_count": null,
      "metadata": {
        "id": "Q0k-05TPIINX"
      },
      "outputs": [],
      "source": [
        "a is b "
      ]
    },
    {
      "cell_type": "code",
      "execution_count": null,
      "metadata": {
        "id": "PJcHRRCkIK9c"
      },
      "outputs": [],
      "source": [
        "2 in b"
      ]
    },
    {
      "cell_type": "code",
      "execution_count": null,
      "metadata": {
        "id": "ZeIw64bCILd1"
      },
      "outputs": [],
      "source": [
        "x = 4.3\n",
        "y = 4.3"
      ]
    },
    {
      "cell_type": "code",
      "execution_count": null,
      "metadata": {
        "id": "dPnpRaBbIVsl"
      },
      "outputs": [],
      "source": [
        "id(x) , id(y)"
      ]
    },
    {
      "cell_type": "code",
      "execution_count": null,
      "metadata": {
        "id": "HiUyCmepIXUX"
      },
      "outputs": [],
      "source": [
        "x is not y"
      ]
    },
    {
      "cell_type": "code",
      "execution_count": null,
      "metadata": {
        "id": "CzTF6LdMIeZW"
      },
      "outputs": [],
      "source": [
        "2 not in b\n"
      ]
    },
    {
      "cell_type": "code",
      "execution_count": 128,
      "metadata": {
        "colab": {
          "base_uri": "https://localhost:8080/"
        },
        "id": "YX77uqamImgw",
        "outputId": "76d08481-f903-4ed7-d0bc-fbeedbecebc7"
      },
      "outputs": [
        {
          "name": "stdout",
          "output_type": "stream",
          "text": [
            "enter your namesheldon\n",
            "enter your age23\n"
          ]
        }
      ],
      "source": [
        "p1 = input(\"enter your name\")\n",
        "p1_age = int(input(\"enter your age\"))"
      ]
    },
    {
      "cell_type": "code",
      "execution_count": null,
      "metadata": {
        "colab": {
          "background_save": true
        },
        "id": "UaDlhnJyKxex"
      },
      "outputs": [],
      "source": [
        "print(\"The year when \"+p1 + \" will turn 100 is\"  , 2022 + (100-p1_age))"
      ]
    },
    {
      "cell_type": "code",
      "execution_count": 101,
      "metadata": {
        "colab": {
          "base_uri": "https://localhost:8080/"
        },
        "id": "QqLZgDs2K-IR",
        "outputId": "16edb3ef-d3df-4f8a-83de-110b6ff25109"
      },
      "outputs": [
        {
          "output_type": "stream",
          "name": "stdout",
          "text": [
            "Enetr a integer34\n",
            "even number\n"
          ]
        }
      ],
      "source": [
        "a = int(input(\"Enetr a integer\"))\n",
        "if a%2 ==0 :\n",
        "  print(\"even number\")\n",
        "else :\n",
        "  print(\"odd number\")"
      ]
    },
    {
      "cell_type": "code",
      "source": [
        "## wap to accept charchter from the user and check whether it is a captial letter or small letter "
      ],
      "metadata": {
        "id": "vTJkXMpcsLkz"
      },
      "execution_count": 104,
      "outputs": []
    },
    {
      "cell_type": "code",
      "source": [
        "a = input(\"Enter a character\")\n",
        "a_unicode = ord(a)\n",
        "if a_unicode >=65 and a_unicode <=91 :\n",
        "  print(\"It is capital letter\")\n",
        "else : \n",
        "  print(\"it is a small case letter\")"
      ],
      "metadata": {
        "colab": {
          "base_uri": "https://localhost:8080/"
        },
        "id": "d4obG_tosb7w",
        "outputId": "c5aeef7e-ede5-4423-c793-dfd1922f9651"
      },
      "execution_count": 108,
      "outputs": [
        {
          "output_type": "stream",
          "name": "stdout",
          "text": [
            "Enter a characterJ\n",
            "It is capital letter\n"
          ]
        }
      ]
    },
    {
      "cell_type": "code",
      "source": [
        "a = int(input(\"first number \"))\n",
        "b = int(input(\"second number \"))\n",
        "c = int(input(\"third number \"))\n",
        "\n",
        "if a > b and a > c : \n",
        "  print(\"{} is the greatest number\".format(a))\n",
        "elif b > a and b > c : \n",
        "  print(\"{} is the greatest number\".format(b))\n",
        "else : \n",
        "  print(\"{} is the greatest number\".format(c))"
      ],
      "metadata": {
        "colab": {
          "base_uri": "https://localhost:8080/"
        },
        "id": "4Fj8QchksyCJ",
        "outputId": "f0d52265-3b33-4ee2-bf60-d13b83c7a111"
      },
      "execution_count": 110,
      "outputs": [
        {
          "output_type": "stream",
          "name": "stdout",
          "text": [
            "first number 4\n",
            "second number 2\n",
            "third number 9\n",
            "9 is the greatest number\n"
          ]
        }
      ]
    },
    {
      "cell_type": "code",
      "source": [
        "i = 1\n",
        "while i <= 50 : \n",
        "  print(i)\n",
        "  i += 1"
      ],
      "metadata": {
        "colab": {
          "base_uri": "https://localhost:8080/"
        },
        "id": "b1UhVAlRukAg",
        "outputId": "e9dcb24c-a3a7-4cb8-c852-6a2de63d38bb"
      },
      "execution_count": 112,
      "outputs": [
        {
          "output_type": "stream",
          "name": "stdout",
          "text": [
            "1\n",
            "2\n",
            "3\n",
            "4\n",
            "5\n",
            "6\n",
            "7\n",
            "8\n",
            "9\n",
            "10\n",
            "11\n",
            "12\n",
            "13\n",
            "14\n",
            "15\n",
            "16\n",
            "17\n",
            "18\n",
            "19\n",
            "20\n",
            "21\n",
            "22\n",
            "23\n",
            "24\n",
            "25\n",
            "26\n",
            "27\n",
            "28\n",
            "29\n",
            "30\n",
            "31\n",
            "32\n",
            "33\n",
            "34\n",
            "35\n",
            "36\n",
            "37\n",
            "38\n",
            "39\n",
            "40\n",
            "41\n",
            "42\n",
            "43\n",
            "44\n",
            "45\n",
            "46\n",
            "47\n",
            "48\n",
            "49\n",
            "50\n"
          ]
        }
      ]
    },
    {
      "cell_type": "code",
      "source": [
        "a = input(\"enter a name \")\n",
        "i = 0\n",
        "while i < len(a):\n",
        "  if a[i].lower() not in ['a' , 'e' , 'i', 'o' ,'u']:\n",
        "    print(a[i])\n",
        "  i+=1"
      ],
      "metadata": {
        "colab": {
          "base_uri": "https://localhost:8080/"
        },
        "id": "KVOPMQchvnI8",
        "outputId": "f2db5696-cec5-41f6-901c-9011f8580998"
      },
      "execution_count": 119,
      "outputs": [
        {
          "output_type": "stream",
          "name": "stdout",
          "text": [
            "enter a name naruto\n",
            "n\n",
            "r\n",
            "t\n"
          ]
        }
      ]
    },
    {
      "cell_type": "code",
      "source": [
        "'a' not in ['a' , 'e' , 'i', 'o' ,'u']"
      ],
      "metadata": {
        "colab": {
          "base_uri": "https://localhost:8080/"
        },
        "id": "0XJEZyGDwExW",
        "outputId": "7cd5357d-6ffb-4fbd-b510-16a44eb7a4d4"
      },
      "execution_count": 120,
      "outputs": [
        {
          "output_type": "execute_result",
          "data": {
            "text/plain": [
              "False"
            ]
          },
          "metadata": {},
          "execution_count": 120
        }
      ]
    },
    {
      "cell_type": "code",
      "source": [
        "'a' in 'aeiou'"
      ],
      "metadata": {
        "colab": {
          "base_uri": "https://localhost:8080/"
        },
        "id": "YCBsRZ2_wMU1",
        "outputId": "cf72c9cd-be0a-4b41-898d-f489aa15d07b"
      },
      "execution_count": 122,
      "outputs": [
        {
          "output_type": "execute_result",
          "data": {
            "text/plain": [
              "True"
            ]
          },
          "metadata": {},
          "execution_count": 122
        }
      ]
    },
    {
      "cell_type": "code",
      "source": [
        "for i in range(1 ,10) : \n",
        "  for j in range(i): \n",
        "    print(\" * \",end=\"\")\n",
        "  print()"
      ],
      "metadata": {
        "colab": {
          "base_uri": "https://localhost:8080/"
        },
        "id": "iYjuV26mwh0K",
        "outputId": "ae071625-5802-44bc-ed48-3918e7c7c435"
      },
      "execution_count": 127,
      "outputs": [
        {
          "output_type": "stream",
          "name": "stdout",
          "text": [
            " * \n",
            " *  * \n",
            " *  *  * \n",
            " *  *  *  * \n",
            " *  *  *  *  * \n",
            " *  *  *  *  *  * \n",
            " *  *  *  *  *  *  * \n",
            " *  *  *  *  *  *  *  * \n",
            " *  *  *  *  *  *  *  *  * \n"
          ]
        }
      ]
    },
    {
      "cell_type": "code",
      "source": [
        "for i in range(10 , 1, -1):\n",
        "  for j in range(i) : \n",
        "    print(\" * \", end=\"\")\n",
        "  print()"
      ],
      "metadata": {
        "colab": {
          "base_uri": "https://localhost:8080/"
        },
        "id": "JUvslmMi40r4",
        "outputId": "fd8e77ca-4e09-4fa7-9378-30257365d20c"
      },
      "execution_count": 129,
      "outputs": [
        {
          "output_type": "stream",
          "name": "stdout",
          "text": [
            " *  *  *  *  *  *  *  *  *  * \n",
            " *  *  *  *  *  *  *  *  * \n",
            " *  *  *  *  *  *  *  * \n",
            " *  *  *  *  *  *  * \n",
            " *  *  *  *  *  * \n",
            " *  *  *  *  * \n",
            " *  *  *  * \n",
            " *  *  * \n",
            " *  * \n"
          ]
        }
      ]
    },
    {
      "cell_type": "code",
      "source": [
        "for i in range(10):\n",
        "  for j in range(1,i):\n",
        "    print(j, end=\"\")\n",
        "  print()"
      ],
      "metadata": {
        "colab": {
          "base_uri": "https://localhost:8080/"
        },
        "id": "CnfAg3n55yc7",
        "outputId": "979954c8-d369-41b7-9240-ce610ab1f7e7"
      },
      "execution_count": 133,
      "outputs": [
        {
          "output_type": "stream",
          "name": "stdout",
          "text": [
            "\n",
            "\n",
            "1\n",
            "12\n",
            "123\n",
            "1234\n",
            "12345\n",
            "123456\n",
            "1234567\n",
            "12345678\n"
          ]
        }
      ]
    },
    {
      "cell_type": "code",
      "source": [],
      "metadata": {
        "id": "vcz8Yx-X57BJ"
      },
      "execution_count": null,
      "outputs": []
    }
  ],
  "metadata": {
    "colab": {
      "provenance": []
    },
    "kernelspec": {
      "display_name": "Python 3",
      "name": "python3"
    },
    "language_info": {
      "name": "python"
    }
  },
  "nbformat": 4,
  "nbformat_minor": 0
}