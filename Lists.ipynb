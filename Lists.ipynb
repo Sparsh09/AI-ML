{
  "nbformat": 4,
  "nbformat_minor": 0,
  "metadata": {
    "colab": {
      "provenance": []
    },
    "kernelspec": {
      "name": "python3",
      "display_name": "Python 3"
    },
    "language_info": {
      "name": "python"
    }
  },
  "cells": [
    {
      "cell_type": "code",
      "execution_count": 1,
      "metadata": {
        "colab": {
          "base_uri": "https://localhost:8080/"
        },
        "id": "hBdCoQU_ThCj",
        "outputId": "6a013ff5-f0f1-4fea-9243-de1391e74477"
      },
      "outputs": [
        {
          "output_type": "execute_result",
          "data": {
            "text/plain": [
              "[1, 2, 3]"
            ]
          },
          "metadata": {},
          "execution_count": 1
        }
      ],
      "source": [
        "a = [ 1, 2 ,3]\n",
        "a "
      ]
    },
    {
      "cell_type": "code",
      "source": [
        "a = list([2,3,4])\n",
        "a"
      ],
      "metadata": {
        "colab": {
          "base_uri": "https://localhost:8080/"
        },
        "id": "fgyHYwV_T2OR",
        "outputId": "84713082-b3b3-41e6-a0c2-e1c9f533a967"
      },
      "execution_count": 2,
      "outputs": [
        {
          "output_type": "execute_result",
          "data": {
            "text/plain": [
              "[2, 3, 4]"
            ]
          },
          "metadata": {},
          "execution_count": 2
        }
      ]
    },
    {
      "cell_type": "code",
      "source": [
        "a = []\n",
        "a"
      ],
      "metadata": {
        "colab": {
          "base_uri": "https://localhost:8080/"
        },
        "id": "MMI_NTpqT41l",
        "outputId": "1e59f0fb-f3b6-4d88-bcbf-44de6f6974a6"
      },
      "execution_count": 3,
      "outputs": [
        {
          "output_type": "execute_result",
          "data": {
            "text/plain": [
              "[]"
            ]
          },
          "metadata": {},
          "execution_count": 3
        }
      ]
    },
    {
      "cell_type": "code",
      "source": [
        "a = [ 1,2,3, 34.43 , True , \"Aba\"]"
      ],
      "metadata": {
        "id": "pCPf1E5wT6tP"
      },
      "execution_count": 4,
      "outputs": []
    },
    {
      "cell_type": "code",
      "source": [
        "a"
      ],
      "metadata": {
        "colab": {
          "base_uri": "https://localhost:8080/"
        },
        "id": "5JnA0b41UCAK",
        "outputId": "61bdc1c0-ff60-40a3-f7ed-1c5a87857dfb"
      },
      "execution_count": 5,
      "outputs": [
        {
          "output_type": "execute_result",
          "data": {
            "text/plain": [
              "[1, 2, 3, 34.43, True, 'Aba']"
            ]
          },
          "metadata": {},
          "execution_count": 5
        }
      ]
    },
    {
      "cell_type": "code",
      "source": [
        "a[2] = \"new value\""
      ],
      "metadata": {
        "id": "vHv2N5aHUDBl"
      },
      "execution_count": 6,
      "outputs": []
    },
    {
      "cell_type": "code",
      "source": [
        "a"
      ],
      "metadata": {
        "colab": {
          "base_uri": "https://localhost:8080/"
        },
        "id": "YjUiioFrUGyf",
        "outputId": "b0b01e96-69c1-46e4-e3e9-9a432d2086ae"
      },
      "execution_count": 7,
      "outputs": [
        {
          "output_type": "execute_result",
          "data": {
            "text/plain": [
              "[1, 2, 'new value', 34.43, True, 'Aba']"
            ]
          },
          "metadata": {},
          "execution_count": 7
        }
      ]
    },
    {
      "cell_type": "code",
      "source": [
        "b = [ 0 for i in range(10)]"
      ],
      "metadata": {
        "id": "oGPTXckRUHKH"
      },
      "execution_count": 8,
      "outputs": []
    },
    {
      "cell_type": "code",
      "source": [
        "b "
      ],
      "metadata": {
        "colab": {
          "base_uri": "https://localhost:8080/"
        },
        "id": "Wxs8LPODUQHf",
        "outputId": "fa6c1b3b-9ea1-4d16-bcd7-97ca694785d5"
      },
      "execution_count": 9,
      "outputs": [
        {
          "output_type": "execute_result",
          "data": {
            "text/plain": [
              "[0, 0, 0, 0, 0, 0, 0, 0, 0, 0]"
            ]
          },
          "metadata": {},
          "execution_count": 9
        }
      ]
    },
    {
      "cell_type": "code",
      "source": [
        "newL = [] \n",
        "for i in range(10) : \n",
        "  newL.append([ i * i for j in range(10)])\n",
        "newL\n"
      ],
      "metadata": {
        "colab": {
          "base_uri": "https://localhost:8080/"
        },
        "id": "ikBO_wM7UQaV",
        "outputId": "e5846e96-6b42-47a7-d636-11f85911e427"
      },
      "execution_count": 10,
      "outputs": [
        {
          "output_type": "execute_result",
          "data": {
            "text/plain": [
              "[[0, 0, 0, 0, 0, 0, 0, 0, 0, 0],\n",
              " [1, 1, 1, 1, 1, 1, 1, 1, 1, 1],\n",
              " [4, 4, 4, 4, 4, 4, 4, 4, 4, 4],\n",
              " [9, 9, 9, 9, 9, 9, 9, 9, 9, 9],\n",
              " [16, 16, 16, 16, 16, 16, 16, 16, 16, 16],\n",
              " [25, 25, 25, 25, 25, 25, 25, 25, 25, 25],\n",
              " [36, 36, 36, 36, 36, 36, 36, 36, 36, 36],\n",
              " [49, 49, 49, 49, 49, 49, 49, 49, 49, 49],\n",
              " [64, 64, 64, 64, 64, 64, 64, 64, 64, 64],\n",
              " [81, 81, 81, 81, 81, 81, 81, 81, 81, 81]]"
            ]
          },
          "metadata": {},
          "execution_count": 10
        }
      ]
    },
    {
      "cell_type": "code",
      "source": [
        "list1 = list()"
      ],
      "metadata": {
        "id": "Ltf_IGZHUorA"
      },
      "execution_count": 11,
      "outputs": []
    },
    {
      "cell_type": "code",
      "source": [
        "list1"
      ],
      "metadata": {
        "colab": {
          "base_uri": "https://localhost:8080/"
        },
        "id": "YyIvhs1PU2IG",
        "outputId": "1d28baf9-28f3-465d-8fdf-e9ed2940a4f0"
      },
      "execution_count": 12,
      "outputs": [
        {
          "output_type": "execute_result",
          "data": {
            "text/plain": [
              "[]"
            ]
          },
          "metadata": {},
          "execution_count": 12
        }
      ]
    },
    {
      "cell_type": "code",
      "source": [
        "l = list(\"hellow\")"
      ],
      "metadata": {
        "id": "nRV_mPLdU2ln"
      },
      "execution_count": 13,
      "outputs": []
    },
    {
      "cell_type": "code",
      "source": [
        "l"
      ],
      "metadata": {
        "colab": {
          "base_uri": "https://localhost:8080/"
        },
        "id": "2sdhBTxNU8Ge",
        "outputId": "d31147f4-566d-4932-a38e-7862faaf33ea"
      },
      "execution_count": 14,
      "outputs": [
        {
          "output_type": "execute_result",
          "data": {
            "text/plain": [
              "['h', 'e', 'l', 'l', 'o', 'w']"
            ]
          },
          "metadata": {},
          "execution_count": 14
        }
      ]
    },
    {
      "cell_type": "code",
      "source": [
        "a = [ 1,2,3,4 ]"
      ],
      "metadata": {
        "id": "OXR0Pe-1U8d6"
      },
      "execution_count": 15,
      "outputs": []
    },
    {
      "cell_type": "code",
      "source": [
        "len(a)"
      ],
      "metadata": {
        "colab": {
          "base_uri": "https://localhost:8080/"
        },
        "id": "6QnDulduW2ZJ",
        "outputId": "cd20fe81-0ee4-484a-aa2a-c714e4df0a74"
      },
      "execution_count": 16,
      "outputs": [
        {
          "output_type": "execute_result",
          "data": {
            "text/plain": [
              "4"
            ]
          },
          "metadata": {},
          "execution_count": 16
        }
      ]
    },
    {
      "cell_type": "code",
      "source": [
        "b = [4,5,6,7]"
      ],
      "metadata": {
        "id": "6x9KKDB0W3J9"
      },
      "execution_count": 17,
      "outputs": []
    },
    {
      "cell_type": "code",
      "source": [
        "a + b"
      ],
      "metadata": {
        "colab": {
          "base_uri": "https://localhost:8080/"
        },
        "id": "9QjN1LCMW5JV",
        "outputId": "8b55475c-16ed-49ea-e2d9-3d0033b1d24a"
      },
      "execution_count": 18,
      "outputs": [
        {
          "output_type": "execute_result",
          "data": {
            "text/plain": [
              "[1, 2, 3, 4, 4, 5, 6, 7]"
            ]
          },
          "metadata": {},
          "execution_count": 18
        }
      ]
    },
    {
      "cell_type": "code",
      "source": [
        "a * 3"
      ],
      "metadata": {
        "colab": {
          "base_uri": "https://localhost:8080/"
        },
        "id": "n0N0Uaa7W5_g",
        "outputId": "77ecf82b-76e1-4d1b-fd15-1dfeb7e041c0"
      },
      "execution_count": 19,
      "outputs": [
        {
          "output_type": "execute_result",
          "data": {
            "text/plain": [
              "[1, 2, 3, 4, 1, 2, 3, 4, 1, 2, 3, 4]"
            ]
          },
          "metadata": {},
          "execution_count": 19
        }
      ]
    },
    {
      "cell_type": "code",
      "source": [
        "# add data to the end \n",
        "a = [1 ,2, 3,4]\n",
        "a.append(5)"
      ],
      "metadata": {
        "id": "Pfgnk6o0XANE"
      },
      "execution_count": 20,
      "outputs": []
    },
    {
      "cell_type": "code",
      "source": [
        "a "
      ],
      "metadata": {
        "colab": {
          "base_uri": "https://localhost:8080/"
        },
        "id": "uV7a28VyXCQP",
        "outputId": "767c90b5-b683-4e07-ba7a-f5b55e55a571"
      },
      "execution_count": 21,
      "outputs": [
        {
          "output_type": "execute_result",
          "data": {
            "text/plain": [
              "[1, 2, 3, 4, 5]"
            ]
          },
          "metadata": {},
          "execution_count": 21
        }
      ]
    },
    {
      "cell_type": "code",
      "source": [
        "# add data to specific index\n",
        "a.insert(0,6)"
      ],
      "metadata": {
        "id": "XOE4LwB8XKy_"
      },
      "execution_count": 22,
      "outputs": []
    },
    {
      "cell_type": "code",
      "source": [
        "a"
      ],
      "metadata": {
        "colab": {
          "base_uri": "https://localhost:8080/"
        },
        "id": "q5fimA9lXWkg",
        "outputId": "3d08d55a-781c-4061-d58c-b0627859b736"
      },
      "execution_count": 23,
      "outputs": [
        {
          "output_type": "execute_result",
          "data": {
            "text/plain": [
              "[6, 1, 2, 3, 4, 5]"
            ]
          },
          "metadata": {},
          "execution_count": 23
        }
      ]
    },
    {
      "cell_type": "code",
      "source": [
        "a.extend(b)"
      ],
      "metadata": {
        "id": "9sPSldpcXWz-"
      },
      "execution_count": 24,
      "outputs": []
    },
    {
      "cell_type": "code",
      "source": [
        "a"
      ],
      "metadata": {
        "colab": {
          "base_uri": "https://localhost:8080/"
        },
        "id": "CbzT7IJrXbkM",
        "outputId": "2dea5da3-9a41-424f-8b93-1aaf835fd8fc"
      },
      "execution_count": 25,
      "outputs": [
        {
          "output_type": "execute_result",
          "data": {
            "text/plain": [
              "[6, 1, 2, 3, 4, 5, 4, 5, 6, 7]"
            ]
          },
          "metadata": {},
          "execution_count": 25
        }
      ]
    },
    {
      "cell_type": "code",
      "source": [
        "#delete the first occurence of data\n",
        "a.remove(5)"
      ],
      "metadata": {
        "id": "N7M6RMC7XcH_"
      },
      "execution_count": 26,
      "outputs": []
    },
    {
      "cell_type": "code",
      "source": [
        "a"
      ],
      "metadata": {
        "colab": {
          "base_uri": "https://localhost:8080/"
        },
        "id": "Wc9aXgi0Xk3Y",
        "outputId": "85163a78-1788-4d59-b57c-08086dcf515e"
      },
      "execution_count": 27,
      "outputs": [
        {
          "output_type": "execute_result",
          "data": {
            "text/plain": [
              "[6, 1, 2, 3, 4, 4, 5, 6, 7]"
            ]
          },
          "metadata": {},
          "execution_count": 27
        }
      ]
    },
    {
      "cell_type": "code",
      "source": [
        "#delete at a particular index \n",
        "a.pop()"
      ],
      "metadata": {
        "colab": {
          "base_uri": "https://localhost:8080/"
        },
        "id": "OnY_V7dsXqMh",
        "outputId": "da763f52-457e-42ca-fc67-a01b7a76fb17"
      },
      "execution_count": 28,
      "outputs": [
        {
          "output_type": "execute_result",
          "data": {
            "text/plain": [
              "7"
            ]
          },
          "metadata": {},
          "execution_count": 28
        }
      ]
    },
    {
      "cell_type": "code",
      "source": [
        "a"
      ],
      "metadata": {
        "colab": {
          "base_uri": "https://localhost:8080/"
        },
        "id": "-L_zGCGZX8hX",
        "outputId": "9025f08b-10b3-4026-8074-ce36fb253320"
      },
      "execution_count": 29,
      "outputs": [
        {
          "output_type": "execute_result",
          "data": {
            "text/plain": [
              "[6, 1, 2, 3, 4, 4, 5, 6]"
            ]
          },
          "metadata": {},
          "execution_count": 29
        }
      ]
    },
    {
      "cell_type": "code",
      "source": [
        "a.pop(6)"
      ],
      "metadata": {
        "colab": {
          "base_uri": "https://localhost:8080/"
        },
        "id": "s8OqSZdaX9ju",
        "outputId": "5dceb3d4-99a8-483e-c5a6-d3324999d755"
      },
      "execution_count": 30,
      "outputs": [
        {
          "output_type": "execute_result",
          "data": {
            "text/plain": [
              "5"
            ]
          },
          "metadata": {},
          "execution_count": 30
        }
      ]
    },
    {
      "cell_type": "code",
      "source": [
        "del a[4]"
      ],
      "metadata": {
        "id": "lHZiWkvqYApv"
      },
      "execution_count": 31,
      "outputs": []
    },
    {
      "cell_type": "code",
      "source": [
        "a"
      ],
      "metadata": {
        "colab": {
          "base_uri": "https://localhost:8080/"
        },
        "id": "slT4Ak7lHfSB",
        "outputId": "2e9a0a46-c24e-4168-ffba-d45e8860f975"
      },
      "execution_count": 32,
      "outputs": [
        {
          "output_type": "execute_result",
          "data": {
            "text/plain": [
              "[6, 1, 2, 3, 4, 6]"
            ]
          },
          "metadata": {},
          "execution_count": 32
        }
      ]
    },
    {
      "cell_type": "code",
      "source": [
        "a.sort()"
      ],
      "metadata": {
        "id": "Nqa_rEsyHg9T"
      },
      "execution_count": 33,
      "outputs": []
    },
    {
      "cell_type": "code",
      "source": [
        "a"
      ],
      "metadata": {
        "colab": {
          "base_uri": "https://localhost:8080/"
        },
        "id": "I6haIcRDHlw4",
        "outputId": "8ef50f0e-8ad5-4dfe-c817-df993fb7e130"
      },
      "execution_count": 34,
      "outputs": [
        {
          "output_type": "execute_result",
          "data": {
            "text/plain": [
              "[1, 2, 3, 4, 6, 6]"
            ]
          },
          "metadata": {},
          "execution_count": 34
        }
      ]
    },
    {
      "cell_type": "code",
      "source": [
        "b "
      ],
      "metadata": {
        "colab": {
          "base_uri": "https://localhost:8080/"
        },
        "id": "A5S645CrHmAn",
        "outputId": "fa511dc4-dc39-4b93-ac1a-66e9aa38afd4"
      },
      "execution_count": 35,
      "outputs": [
        {
          "output_type": "execute_result",
          "data": {
            "text/plain": [
              "[4, 5, 6, 7]"
            ]
          },
          "metadata": {},
          "execution_count": 35
        }
      ]
    },
    {
      "cell_type": "code",
      "source": [
        "max(b)"
      ],
      "metadata": {
        "colab": {
          "base_uri": "https://localhost:8080/"
        },
        "id": "aJqNmPXBHnaE",
        "outputId": "6c36f2f0-573f-4343-a6a9-4d40de1b6591"
      },
      "execution_count": 36,
      "outputs": [
        {
          "output_type": "execute_result",
          "data": {
            "text/plain": [
              "7"
            ]
          },
          "metadata": {},
          "execution_count": 36
        }
      ]
    },
    {
      "cell_type": "code",
      "source": [
        "b = [ 1, 2, 3, 0 , \"abv\"]"
      ],
      "metadata": {
        "id": "igFw3I-gHoBo"
      },
      "execution_count": 37,
      "outputs": []
    },
    {
      "cell_type": "code",
      "source": [
        "2,3#max and sort works for homogenous data of the list \n",
        "max(b)"
      ],
      "metadata": {
        "colab": {
          "base_uri": "https://localhost:8080/",
          "height": 188
        },
        "id": "TXrbuBIfHtNw",
        "outputId": "f7aaf4dc-71fb-49ea-c7a2-2da9fbf04d66"
      },
      "execution_count": 38,
      "outputs": [
        {
          "output_type": "error",
          "ename": "TypeError",
          "evalue": "ignored",
          "traceback": [
            "\u001b[0;31m---------------------------------------------------------------------------\u001b[0m",
            "\u001b[0;31mTypeError\u001b[0m                                 Traceback (most recent call last)",
            "\u001b[0;32m<ipython-input-38-a87a5ed0eef8>\u001b[0m in \u001b[0;36m<cell line: 2>\u001b[0;34m()\u001b[0m\n\u001b[1;32m      1\u001b[0m \u001b[0;31m#max and sort works for homogenous data of the list\u001b[0m\u001b[0;34m\u001b[0m\u001b[0;34m\u001b[0m\u001b[0m\n\u001b[0;32m----> 2\u001b[0;31m \u001b[0mmax\u001b[0m\u001b[0;34m(\u001b[0m\u001b[0mb\u001b[0m\u001b[0;34m)\u001b[0m\u001b[0;34m\u001b[0m\u001b[0;34m\u001b[0m\u001b[0m\n\u001b[0m",
            "\u001b[0;31mTypeError\u001b[0m: '>' not supported between instances of 'str' and 'int'"
          ]
        }
      ]
    },
    {
      "cell_type": "code",
      "source": [
        "b.index(0)"
      ],
      "metadata": {
        "colab": {
          "base_uri": "https://localhost:8080/"
        },
        "id": "zeONrW5zH1XW",
        "outputId": "dea0d05e-fb1e-4ab7-8091-8467cb20412a"
      },
      "execution_count": 39,
      "outputs": [
        {
          "output_type": "execute_result",
          "data": {
            "text/plain": [
              "3"
            ]
          },
          "metadata": {},
          "execution_count": 39
        }
      ]
    },
    {
      "cell_type": "code",
      "source": [
        "100 in b "
      ],
      "metadata": {
        "colab": {
          "base_uri": "https://localhost:8080/"
        },
        "id": "FtC4UX7bH39L",
        "outputId": "584ce6ef-3136-4e59-855a-49f8857b9df2"
      },
      "execution_count": 40,
      "outputs": [
        {
          "output_type": "execute_result",
          "data": {
            "text/plain": [
              "False"
            ]
          },
          "metadata": {},
          "execution_count": 40
        }
      ]
    },
    {
      "cell_type": "code",
      "source": [
        "nl = [ i.lower() for i in \"HELLO\"]"
      ],
      "metadata": {
        "id": "9Wc57pa4H5Zp"
      },
      "execution_count": 41,
      "outputs": []
    },
    {
      "cell_type": "code",
      "source": [
        "nl"
      ],
      "metadata": {
        "colab": {
          "base_uri": "https://localhost:8080/"
        },
        "id": "wHZIvqgVIRoW",
        "outputId": "84506de0-bb09-4a35-b897-76bd4b9f3539"
      },
      "execution_count": 42,
      "outputs": [
        {
          "output_type": "execute_result",
          "data": {
            "text/plain": [
              "['h', 'e', 'l', 'l', 'o']"
            ]
          },
          "metadata": {},
          "execution_count": 42
        }
      ]
    },
    {
      "cell_type": "code",
      "source": [
        "a = [2,3,4,54,3,54,23,52]"
      ],
      "metadata": {
        "id": "ADmxp4rmISbC"
      },
      "execution_count": 43,
      "outputs": []
    },
    {
      "cell_type": "code",
      "source": [
        "for i in a :\n",
        "  print(i)"
      ],
      "metadata": {
        "colab": {
          "base_uri": "https://localhost:8080/"
        },
        "id": "iZcv41zdIh1b",
        "outputId": "eae8aa36-07f0-4927-c4d2-3efd202c67a5"
      },
      "execution_count": 44,
      "outputs": [
        {
          "output_type": "stream",
          "name": "stdout",
          "text": [
            "2\n",
            "3\n",
            "4\n",
            "54\n",
            "3\n",
            "54\n",
            "23\n",
            "52\n"
          ]
        }
      ]
    },
    {
      "cell_type": "code",
      "source": [
        "#List Input 1\n",
        "sizeOfList = int(input(\"Enter the length of the list \"))\n",
        "l = []\n",
        "for i in range(sizeOfList) : \n",
        "  l.append(int(input(\"Enter the number \")))\n",
        "print(\"The list is as ,\" , l)\n"
      ],
      "metadata": {
        "colab": {
          "base_uri": "https://localhost:8080/"
        },
        "id": "i776weiLIiy7",
        "outputId": "d2fea184-8332-42bd-df21-1c733dce577c"
      },
      "execution_count": 45,
      "outputs": [
        {
          "output_type": "stream",
          "name": "stdout",
          "text": [
            "Enter the length of the list 2\n",
            "Enter the number 1\n",
            "Enter the number 2\n",
            "The list is as , [1, 2]\n"
          ]
        }
      ]
    },
    {
      "cell_type": "code",
      "source": [
        "#list Input 2\n",
        "l = input(\"Enter list inputs in a single line separated by space\")\n",
        "l = l.split()\n",
        "for i in range(len(l)):\n",
        "  l[i] = int(l[i])\n",
        "print(l)"
      ],
      "metadata": {
        "colab": {
          "base_uri": "https://localhost:8080/"
        },
        "id": "mzAWGs3vKNz8",
        "outputId": "fa9eacd4-183c-42b1-99cd-4ae6f77b24bb"
      },
      "execution_count": 46,
      "outputs": [
        {
          "output_type": "stream",
          "name": "stdout",
          "text": [
            "Enter list inputs in a single line separated by space1 2 3 4 5\n",
            "[1, 2, 3, 4, 5]\n"
          ]
        }
      ]
    },
    {
      "cell_type": "code",
      "source": [
        "s = input(\"Enter list elements \").split()\n",
        "s = [int(i) for i in s]\n",
        "s"
      ],
      "metadata": {
        "colab": {
          "base_uri": "https://localhost:8080/"
        },
        "id": "5KbVYgyuKvLd",
        "outputId": "a4415b91-57ac-4355-8b16-eb6746d90e62"
      },
      "execution_count": 47,
      "outputs": [
        {
          "name": "stdout",
          "output_type": "stream",
          "text": [
            "Enter list elements 1 2 3 4\n"
          ]
        },
        {
          "output_type": "execute_result",
          "data": {
            "text/plain": [
              "[1, 2, 3, 4]"
            ]
          },
          "metadata": {},
          "execution_count": 47
        }
      ]
    },
    {
      "cell_type": "code",
      "source": [
        "s.sort()\n",
        "s"
      ],
      "metadata": {
        "colab": {
          "base_uri": "https://localhost:8080/"
        },
        "id": "8ClcFaWoLKhu",
        "outputId": "64191284-9cef-4e8c-f19a-8de74acea788"
      },
      "execution_count": 48,
      "outputs": [
        {
          "output_type": "execute_result",
          "data": {
            "text/plain": [
              "[1, 2, 3, 4]"
            ]
          },
          "metadata": {},
          "execution_count": 48
        }
      ]
    },
    {
      "cell_type": "code",
      "source": [
        "# Difference of even and odd sum of the list elements \n",
        "o = [int(i) for i in input().split()]\n",
        "sum_even = 0\n",
        "sum_odd = 0\n",
        "for i in o : \n",
        "  if i % 2 == 0: \n",
        "    sum_even += i \n",
        "  else : \n",
        "    sum_odd += i\n",
        "print(sum_even - sum_odd)"
      ],
      "metadata": {
        "colab": {
          "base_uri": "https://localhost:8080/"
        },
        "id": "sep9OvnQLOY4",
        "outputId": "7bd506fe-3e63-4526-c502-720847e9c2af"
      },
      "execution_count": 49,
      "outputs": [
        {
          "output_type": "stream",
          "name": "stdout",
          "text": [
            "2 34 32 12 43\n",
            "37\n"
          ]
        }
      ]
    },
    {
      "cell_type": "code",
      "source": [
        "#Swap ALternative Index Values of the list \n",
        "a = [int(i) for i in input().split()]\n",
        "for i in range(0 ,len(a), 2 ): \n",
        "  a[i] , a[i+1] = a[i+1] , a[i]\n",
        "print(a)"
      ],
      "metadata": {
        "colab": {
          "base_uri": "https://localhost:8080/"
        },
        "id": "7OgSle1eMbrA",
        "outputId": "40819bdd-8442-44cb-f872-415b99f7db9a"
      },
      "execution_count": 50,
      "outputs": [
        {
          "output_type": "stream",
          "name": "stdout",
          "text": [
            "2 4 1 4\n",
            "[4, 2, 4, 1]\n"
          ]
        }
      ]
    },
    {
      "cell_type": "code",
      "source": [
        "#Array Equillibirum\n",
        "a = [2, 3, 10, -10, 4, 2, 9]\n",
        "for i in range(1 , len(a)) : \n",
        "  r = sum([int(i) for i in a[i-1::-1]])\n",
        "  l = sum([int(i) for i in a[i+1::]])\n",
        "  print(r , l , i)\n",
        "  if r == l :\n",
        "    print(\"{} is the equilibirum index value\".format(i))\n",
        "    break\n",
        "\n"
      ],
      "metadata": {
        "colab": {
          "base_uri": "https://localhost:8080/"
        },
        "id": "RXD_y9oFOGQO",
        "outputId": "85a59f89-7fec-4b46-9c34-6cfd67e7da28"
      },
      "execution_count": 51,
      "outputs": [
        {
          "output_type": "stream",
          "name": "stdout",
          "text": [
            "2 15 1\n",
            "5 5 2\n",
            "2 is the equilibirum index value\n"
          ]
        }
      ]
    },
    {
      "cell_type": "code",
      "source": [
        "a.reverse()"
      ],
      "metadata": {
        "id": "sZ42GrzTPt88"
      },
      "execution_count": 52,
      "outputs": []
    },
    {
      "cell_type": "code",
      "source": [
        "a"
      ],
      "metadata": {
        "colab": {
          "base_uri": "https://localhost:8080/"
        },
        "id": "JzfdQWNYR43-",
        "outputId": "332a5012-d531-4107-eabb-4b63833efac0"
      },
      "execution_count": 53,
      "outputs": [
        {
          "output_type": "execute_result",
          "data": {
            "text/plain": [
              "[9, 2, 4, -10, 10, 3, 2]"
            ]
          },
          "metadata": {},
          "execution_count": 53
        }
      ]
    },
    {
      "cell_type": "code",
      "source": [
        "#2d list \n",
        "a = [ [1,2,3], [3,4,5,5]]"
      ],
      "metadata": {
        "id": "2Qyul1crR5mc"
      },
      "execution_count": 55,
      "outputs": []
    },
    {
      "cell_type": "code",
      "source": [
        "a[0]"
      ],
      "metadata": {
        "colab": {
          "base_uri": "https://localhost:8080/"
        },
        "id": "LVAHwBLRqvlw",
        "outputId": "efc0798b-15f3-4360-bda5-4481c67dda7d"
      },
      "execution_count": 56,
      "outputs": [
        {
          "output_type": "execute_result",
          "data": {
            "text/plain": [
              "[1, 2, 3]"
            ]
          },
          "metadata": {},
          "execution_count": 56
        }
      ]
    },
    {
      "cell_type": "code",
      "source": [
        "a[0][1]"
      ],
      "metadata": {
        "colab": {
          "base_uri": "https://localhost:8080/"
        },
        "id": "7M23fLT9rAVb",
        "outputId": "8a824230-58c1-4a02-feff-a01014c48cba"
      },
      "execution_count": 57,
      "outputs": [
        {
          "output_type": "execute_result",
          "data": {
            "text/plain": [
              "2"
            ]
          },
          "metadata": {},
          "execution_count": 57
        }
      ]
    },
    {
      "cell_type": "code",
      "source": [
        "len(a)"
      ],
      "metadata": {
        "colab": {
          "base_uri": "https://localhost:8080/"
        },
        "id": "fKMrMsdkrBC5",
        "outputId": "35e26c0e-6b2f-42c3-ed8c-e19e2405421e"
      },
      "execution_count": 58,
      "outputs": [
        {
          "output_type": "execute_result",
          "data": {
            "text/plain": [
              "2"
            ]
          },
          "metadata": {},
          "execution_count": 58
        }
      ]
    },
    {
      "cell_type": "code",
      "source": [
        "len(a[0])"
      ],
      "metadata": {
        "colab": {
          "base_uri": "https://localhost:8080/"
        },
        "id": "RCaSeFA_rDei",
        "outputId": "124b8520-fc16-4b4d-b49e-80c4ad4d53e0"
      },
      "execution_count": 59,
      "outputs": [
        {
          "output_type": "execute_result",
          "data": {
            "text/plain": [
              "3"
            ]
          },
          "metadata": {},
          "execution_count": 59
        }
      ]
    },
    {
      "cell_type": "code",
      "source": [
        "len(a[1])"
      ],
      "metadata": {
        "colab": {
          "base_uri": "https://localhost:8080/"
        },
        "id": "dCjJpkfLrEi_",
        "outputId": "910614f1-6d75-4320-8de7-3c855c721c34"
      },
      "execution_count": 60,
      "outputs": [
        {
          "output_type": "execute_result",
          "data": {
            "text/plain": [
              "4"
            ]
          },
          "metadata": {},
          "execution_count": 60
        }
      ]
    },
    {
      "cell_type": "code",
      "source": [
        "m , n = [int(i) for i in input().split()]\n",
        "l = []\n",
        "for i in range(m) : \n",
        "  l.append([int(i) for i in input().split()])\n",
        "    "
      ],
      "metadata": {
        "colab": {
          "base_uri": "https://localhost:8080/"
        },
        "id": "cGbQ4OAOrFmJ",
        "outputId": "dbc66ab3-95f1-484f-8247-99dd44f2730f"
      },
      "execution_count": 65,
      "outputs": [
        {
          "name": "stdout",
          "output_type": "stream",
          "text": [
            "2 3\n",
            "1 2 3 \n",
            "4 5 6\n"
          ]
        }
      ]
    },
    {
      "cell_type": "code",
      "source": [
        "l"
      ],
      "metadata": {
        "colab": {
          "base_uri": "https://localhost:8080/"
        },
        "id": "ILdPQDo_rTKO",
        "outputId": "d2c9c271-8441-4990-8d45-ec83d0e9f907"
      },
      "execution_count": 66,
      "outputs": [
        {
          "output_type": "execute_result",
          "data": {
            "text/plain": [
              "[[1, 2, 3], [4, 5, 6]]"
            ]
          },
          "metadata": {},
          "execution_count": 66
        }
      ]
    },
    {
      "cell_type": "code",
      "source": [
        "m , n = [int(i) for i in input().split()]\n",
        "l = [int(i) for i in input().split()]\n",
        "nl = []\n",
        "for i in range(m) : \n",
        "  si = n * i\n",
        "  ei = n * (i+1)\n",
        "  nl.append(l[si : ei])\n",
        "nl"
      ],
      "metadata": {
        "colab": {
          "base_uri": "https://localhost:8080/"
        },
        "id": "SnE9KE-vrVyj",
        "outputId": "2b40d7f4-9aa2-4e15-b46f-20f6250ea2d9"
      },
      "execution_count": 67,
      "outputs": [
        {
          "name": "stdout",
          "output_type": "stream",
          "text": [
            "2 2\n",
            "1 2 3 4\n"
          ]
        },
        {
          "output_type": "execute_result",
          "data": {
            "text/plain": [
              "[[1, 2], [3, 4]]"
            ]
          },
          "metadata": {},
          "execution_count": 67
        }
      ]
    },
    {
      "cell_type": "code",
      "source": [
        "a = [[1,2] for i in range(10)]"
      ],
      "metadata": {
        "id": "tJycv79trYVv"
      },
      "execution_count": 68,
      "outputs": []
    },
    {
      "cell_type": "code",
      "source": [
        "a"
      ],
      "metadata": {
        "colab": {
          "base_uri": "https://localhost:8080/"
        },
        "id": "rItpOFsfrZB-",
        "outputId": "cb8ed457-a2b9-4165-c0bf-251713501d8a"
      },
      "execution_count": 69,
      "outputs": [
        {
          "output_type": "execute_result",
          "data": {
            "text/plain": [
              "[[1, 2],\n",
              " [1, 2],\n",
              " [1, 2],\n",
              " [1, 2],\n",
              " [1, 2],\n",
              " [1, 2],\n",
              " [1, 2],\n",
              " [1, 2],\n",
              " [1, 2],\n",
              " [1, 2]]"
            ]
          },
          "metadata": {},
          "execution_count": 69
        }
      ]
    },
    {
      "cell_type": "code",
      "source": [
        "d2_list = [[0 for j in range(4)] for i in range(10)]"
      ],
      "metadata": {
        "id": "keJg-mjZtiw5"
      },
      "execution_count": 73,
      "outputs": []
    },
    {
      "cell_type": "code",
      "source": [
        "d2_list"
      ],
      "metadata": {
        "colab": {
          "base_uri": "https://localhost:8080/"
        },
        "id": "INoJAnLstzTa",
        "outputId": "5ee963d8-a55e-4e20-893b-675343fc70c4"
      },
      "execution_count": 74,
      "outputs": [
        {
          "output_type": "execute_result",
          "data": {
            "text/plain": [
              "[[0, 0, 0, 0],\n",
              " [0, 0, 0, 0],\n",
              " [0, 0, 0, 0],\n",
              " [0, 0, 0, 0],\n",
              " [0, 0, 0, 0],\n",
              " [0, 0, 0, 0],\n",
              " [0, 0, 0, 0],\n",
              " [0, 0, 0, 0],\n",
              " [0, 0, 0, 0],\n",
              " [0, 0, 0, 0]]"
            ]
          },
          "metadata": {},
          "execution_count": 74
        }
      ]
    },
    {
      "cell_type": "code",
      "source": [
        "d2_list = [[j for j in range(10)] for i in range(10)]\n",
        "d2_list "
      ],
      "metadata": {
        "colab": {
          "base_uri": "https://localhost:8080/"
        },
        "id": "U5RBI0OJt16-",
        "outputId": "b8d27511-9642-4b94-ee73-f61645d5b10f"
      },
      "execution_count": 75,
      "outputs": [
        {
          "output_type": "execute_result",
          "data": {
            "text/plain": [
              "[[0, 1, 2, 3, 4, 5, 6, 7, 8, 9],\n",
              " [0, 1, 2, 3, 4, 5, 6, 7, 8, 9],\n",
              " [0, 1, 2, 3, 4, 5, 6, 7, 8, 9],\n",
              " [0, 1, 2, 3, 4, 5, 6, 7, 8, 9],\n",
              " [0, 1, 2, 3, 4, 5, 6, 7, 8, 9],\n",
              " [0, 1, 2, 3, 4, 5, 6, 7, 8, 9],\n",
              " [0, 1, 2, 3, 4, 5, 6, 7, 8, 9],\n",
              " [0, 1, 2, 3, 4, 5, 6, 7, 8, 9],\n",
              " [0, 1, 2, 3, 4, 5, 6, 7, 8, 9],\n",
              " [0, 1, 2, 3, 4, 5, 6, 7, 8, 9]]"
            ]
          },
          "metadata": {},
          "execution_count": 75
        }
      ]
    },
    {
      "cell_type": "code",
      "source": [
        "d2_list = [[i for j in range(4)] for i in range(10)]"
      ],
      "metadata": {
        "id": "Wusr28meuEFK"
      },
      "execution_count": 76,
      "outputs": []
    },
    {
      "cell_type": "code",
      "source": [
        "d2_list"
      ],
      "metadata": {
        "colab": {
          "base_uri": "https://localhost:8080/"
        },
        "id": "3mKVdihbuKbv",
        "outputId": "4d3c7045-985a-462d-9e63-0f387162b23c"
      },
      "execution_count": 77,
      "outputs": [
        {
          "output_type": "execute_result",
          "data": {
            "text/plain": [
              "[[0, 0, 0, 0],\n",
              " [1, 1, 1, 1],\n",
              " [2, 2, 2, 2],\n",
              " [3, 3, 3, 3],\n",
              " [4, 4, 4, 4],\n",
              " [5, 5, 5, 5],\n",
              " [6, 6, 6, 6],\n",
              " [7, 7, 7, 7],\n",
              " [8, 8, 8, 8],\n",
              " [9, 9, 9, 9]]"
            ]
          },
          "metadata": {},
          "execution_count": 77
        }
      ]
    },
    {
      "cell_type": "code",
      "source": [
        "def print_column_wise_sum(l):\n",
        "  m = len(l)\n",
        "  n = len(l[0])\n",
        "  sum_col = []\n",
        "  if n!=0 :\n",
        "    for i in range(n):\n",
        "      s = 0\n",
        "      for j in range(m):\n",
        "        s += l[j][i]\n",
        "      sum_col.append(s)\n",
        "    return sum_col\n",
        "  else :\n",
        "    return sum_col   "
      ],
      "metadata": {
        "id": "PVh3kYBSuLLe"
      },
      "execution_count": 83,
      "outputs": []
    },
    {
      "cell_type": "code",
      "source": [
        "print_column_wise_sum(d2_list)"
      ],
      "metadata": {
        "colab": {
          "base_uri": "https://localhost:8080/"
        },
        "id": "Cc4esMoAu3-K",
        "outputId": "ee563bde-502c-4ce5-81df-2d17563c170e"
      },
      "execution_count": 84,
      "outputs": [
        {
          "output_type": "execute_result",
          "data": {
            "text/plain": [
              "[45, 45, 45, 45]"
            ]
          },
          "metadata": {},
          "execution_count": 84
        }
      ]
    },
    {
      "cell_type": "code",
      "source": [
        "r = [11,12,13,14]\n",
        "A = [[0,10,20],\n",
        "     [30,40,50],\n",
        "     [60,70,80]]\n",
        "for row in A:\n",
        "  for col in row :\n",
        "    print(col,col+10)"
      ],
      "metadata": {
        "colab": {
          "base_uri": "https://localhost:8080/"
        },
        "id": "ixkC8_1ou6-F",
        "outputId": "4bd43ee1-8875-433e-cb33-7c2616449df9"
      },
      "execution_count": 86,
      "outputs": [
        {
          "output_type": "stream",
          "name": "stdout",
          "text": [
            "0 10\n",
            "10 20\n",
            "20 30\n",
            "30 40\n",
            "40 50\n",
            "50 60\n",
            "60 70\n",
            "70 80\n",
            "80 90\n"
          ]
        }
      ]
    },
    {
      "cell_type": "code",
      "source": [
        "#Row Wise Sum \n",
        "row , col = [int(i) for i in input().split()]\n",
        "i =0 \n",
        "l = []\n",
        "for i in range(row) : \n",
        "  nl = []\n",
        "  for j in range(col) : \n",
        "    nl.append(int(input()))\n",
        "  l.append(nl)\n",
        "i =0 \n",
        "print(l)\n",
        "for r in range(row)  : \n",
        "  s = 0\n",
        "  for c in range(col) : \n",
        "    s += l[r][c]\n",
        "  print(s)"
      ],
      "metadata": {
        "colab": {
          "base_uri": "https://localhost:8080/"
        },
        "id": "NmcJq_V3wdTt",
        "outputId": "6e471a9b-dd4e-4ab2-e679-4c3715350902"
      },
      "execution_count": 99,
      "outputs": [
        {
          "output_type": "stream",
          "name": "stdout",
          "text": [
            "2 2\n",
            "1\n",
            "2\n",
            "3\n",
            "4\n",
            "[[1, 2], [3, 4]]\n",
            "3\n",
            "7\n"
          ]
        }
      ]
    },
    {
      "cell_type": "code",
      "source": [
        "#Wave Print - print the from the start of the first column till its end then print the second colummns end to its top and so on \n",
        "\n",
        "# row , col = [ int(i) for i in input().split()]\n",
        "# l = []\n",
        "# for r in range(row) :\n",
        "#   nl = []\n",
        "#   for c in range(col) :\n",
        "#     nl.append(int(input()))\n",
        "#   l.append(nl)\n",
        "\n",
        "# print(l)\n",
        "row , col = 3,2\n",
        "l = [[1,2], [3,4], [5,6]] \n",
        "\n",
        "\n",
        "for c in range(col):\n",
        "  if c % 2 == 0:\n",
        "    for r in range(row):\n",
        "      print(l[r][c])\n",
        "  else :\n",
        "    for r in range(row-1 , -1 , -1):\n",
        "      print(l[r][c])\n",
        "  print()\n"
      ],
      "metadata": {
        "colab": {
          "base_uri": "https://localhost:8080/"
        },
        "id": "IRt7wkmqxIt_",
        "outputId": "33c3f1d6-afbd-4425-b34c-9b96b43e698f"
      },
      "execution_count": 107,
      "outputs": [
        {
          "output_type": "stream",
          "name": "stdout",
          "text": [
            "1\n",
            "3\n",
            "5\n",
            "\n",
            "6\n",
            "4\n",
            "2\n",
            "\n"
          ]
        }
      ]
    },
    {
      "cell_type": "code",
      "source": [],
      "metadata": {
        "id": "63yONv6s1NJI"
      },
      "execution_count": null,
      "outputs": []
    }
  ]
}